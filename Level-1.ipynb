{
 "cells": [
  {
   "cell_type": "code",
   "execution_count": 25,
   "id": "d945f723-5909-4c1f-9cd6-afaa266d75fa",
   "metadata": {},
   "outputs": [],
   "source": [
    "# Task-1: String Reversal"
   ]
  },
  {
   "cell_type": "code",
   "execution_count": 3,
   "id": "cf41b210-45c9-4cf3-88cb-861bdeb709ed",
   "metadata": {},
   "outputs": [
    {
     "name": "stdin",
     "output_type": "stream",
     "text": [
      "Enter a string:  sandesh\n"
     ]
    },
    {
     "name": "stdout",
     "output_type": "stream",
     "text": [
      "Reversed string: hsednas\n"
     ]
    }
   ],
   "source": [
    "def reverse_string(input_str):\n",
    "    return input_str[::-1]\n",
    "user_input = input(\"Enter a string: \")\n",
    "reversed_output = reverse_string(user_input)\n",
    "print(\"Reversed string:\", reversed_output)\n"
   ]
  },
  {
   "cell_type": "code",
   "execution_count": null,
   "id": "80cdf009-2de6-4178-9982-49e373eec089",
   "metadata": {},
   "outputs": [],
   "source": [
    "#Task-2: Temperature Conversion"
   ]
  },
  {
   "cell_type": "code",
   "execution_count": 33,
   "id": "47229c7e-3589-4ec8-a4a0-fad10e9ee3ab",
   "metadata": {},
   "outputs": [
    {
     "name": "stdin",
     "output_type": "stream",
     "text": [
      "Enter the temperature value:  30\n",
      "Enter the unit (C for Celsius, F for Fahrenheit):  f\n"
     ]
    },
    {
     "name": "stdout",
     "output_type": "stream",
     "text": [
      "30.0°F is equal to -1.11°C\n"
     ]
    }
   ],
   "source": [
    "temperature = float(input(\"Enter the temperature value: \"))\n",
    "unit = input(\"Enter the unit (C for Celsius, F for Fahrenheit): \").strip().upper()\n",
    "if unit == \"C\":\n",
    "    converted = (temperature * 9/5) + 32\n",
    "    print(f\"{temperature}°C is equal to {converted:.2f}°F\")\n",
    "elif unit == \"F\":\n",
    "    converted = (temperature - 32) * 5/9\n",
    "    print(f\"{temperature}°F is equal to {converted:.2f}°C\")\n",
    "else:\n",
    "    print(\"Invalid unit entered. Please use 'C' for Celsius or 'F' for Fahrenheit.\")\n"
   ]
  },
  {
   "cell_type": "code",
   "execution_count": null,
   "id": "38e5e885-697d-4c0b-b49d-6032b6d118fe",
   "metadata": {},
   "outputs": [],
   "source": [
    "# Task-3: Email Validator"
   ]
  },
  {
   "cell_type": "code",
   "execution_count": 35,
   "id": "52071aa2-bb3b-4a31-bc0a-6f0336301384",
   "metadata": {},
   "outputs": [
    {
     "name": "stdin",
     "output_type": "stream",
     "text": [
      "Enter an email address:  ssssssssssssssssss@gmail.com\n"
     ]
    },
    {
     "name": "stdout",
     "output_type": "stream",
     "text": [
      "Valid email address.\n"
     ]
    }
   ],
   "source": [
    "def is_valid_email(email):\n",
    "    if \" \" in email:\n",
    "        return False\n",
    "    if email.count(\"@\") != 1:\n",
    "        return False\n",
    "\n",
    "    local_part, domain_part = email.split(\"@\")\n",
    "\n",
    "    if not local_part or not domain_part:\n",
    "        return False\n",
    "    if \".\" not in domain_part:\n",
    "        return False\n",
    "    if domain_part.startswith(\".\") or domain_part.endswith(\".\"):\n",
    "        return False\n",
    "\n",
    "    return True\n",
    "\n",
    "email = input(\"Enter an email address: \")\n",
    "if is_valid_email(email):\n",
    "    print(\"Valid email address.\")\n",
    "else:\n",
    "    print(\"Invalid email address.\")\n"
   ]
  },
  {
   "cell_type": "code",
   "execution_count": null,
   "id": "119c8043-84b4-436e-899e-458ba03cfebd",
   "metadata": {},
   "outputs": [],
   "source": [
    "#Task-4: Calculator Program"
   ]
  },
  {
   "cell_type": "code",
   "execution_count": 19,
   "id": "bacd75d3-747a-4fb7-8d52-ad50e5b78452",
   "metadata": {},
   "outputs": [
    {
     "name": "stdin",
     "output_type": "stream",
     "text": [
      "Enter the first number:  5\n",
      "Enter an operator (+, -, *, /, %):  +\n",
      "Enter the second number:  123\n"
     ]
    },
    {
     "name": "stdout",
     "output_type": "stream",
     "text": [
      "Result: 128.0\n"
     ]
    }
   ],
   "source": [
    "num1 = float(input(\"Enter the first number: \"))\n",
    "operator = input(\"Enter an operator (+, -, *, /, %): \")\n",
    "num2 = float(input(\"Enter the second number: \"))\n",
    "if operator == \"+\":\n",
    "    result = num1 + num2\n",
    "    print(\"Result:\", result)\n",
    "elif operator == \"-\":\n",
    "    result = num1 - num2\n",
    "    print(\"Result:\", result)\n",
    "elif operator == \"*\":\n",
    "    result = num1 * num2\n",
    "    print(\"Result:\", result)\n",
    "elif operator == \"/\":\n",
    "    if num2 != 0:\n",
    "        result = num1 / num2\n",
    "        print(\"Result:\", result)\n",
    "    else:\n",
    "        print(\"Error: Division by zero is not allowed.\")\n",
    "elif operator == \"%\":\n",
    "    if num2 != 0:\n",
    "        result = num1 % num2\n",
    "        print(\"Result:\", result)\n",
    "    else:\n",
    "        print(\"Error: Modulus by zero is not allowed.\")\n",
    "else:\n",
    "    print(\"Invalid operator.\")\n"
   ]
  },
  {
   "cell_type": "code",
   "execution_count": null,
   "id": "6db3c21f-a767-4b85-be67-aae7d597ce50",
   "metadata": {},
   "outputs": [],
   "source": [
    "# Task-5: Palindrome Checker"
   ]
  },
  {
   "cell_type": "code",
   "execution_count": 23,
   "id": "255bd8c5-8b77-4d1b-8c6e-5902299bbbd1",
   "metadata": {},
   "outputs": [
    {
     "name": "stdin",
     "output_type": "stream",
     "text": [
      "Enter a word or phrase:  civic\n"
     ]
    },
    {
     "name": "stdout",
     "output_type": "stream",
     "text": [
      "It's a palindrome!\n"
     ]
    }
   ],
   "source": [
    "def is_palindrome(text):\n",
    "    # Remove spaces and convert to lowercase\n",
    "    cleaned_text = text.replace(\" \", \"\").lower()\n",
    "    # Check if it reads the same backward\n",
    "    return cleaned_text == cleaned_text[::-1]\n",
    "user_input = input(\"Enter a word or phrase: \")\n",
    "if is_palindrome(user_input):\n",
    "    print(\"It's a palindrome!\")\n",
    "else:\n",
    "    print(\"It's not a palindrome.\")\n"
   ]
  },
  {
   "cell_type": "code",
   "execution_count": null,
   "id": "687ec494-6ef9-4840-8b80-608d9c760424",
   "metadata": {},
   "outputs": [],
   "source": []
  }
 ],
 "metadata": {
  "kernelspec": {
   "display_name": "Python 3 (ipykernel)",
   "language": "python",
   "name": "python3"
  },
  "language_info": {
   "codemirror_mode": {
    "name": "ipython",
    "version": 3
   },
   "file_extension": ".py",
   "mimetype": "text/x-python",
   "name": "python",
   "nbconvert_exporter": "python",
   "pygments_lexer": "ipython3",
   "version": "3.12.7"
  }
 },
 "nbformat": 4,
 "nbformat_minor": 5
}
