{
 "cells": [
  {
   "cell_type": "code",
   "execution_count": null,
   "id": "4ed3032c-0570-48d0-a34b-c78cf3a81bc8",
   "metadata": {},
   "outputs": [],
   "source": [
    "#Task-1 : Guessing Game"
   ]
  },
  {
   "cell_type": "code",
   "execution_count": 1,
   "id": "adbcb2f2-87f9-43e5-b444-9c54908764a0",
   "metadata": {},
   "outputs": [
    {
     "name": "stdin",
     "output_type": "stream",
     "text": [
      "Guess the number (between 1 and 100):  1\n"
     ]
    },
    {
     "name": "stdout",
     "output_type": "stream",
     "text": [
      "Too low! Try again.\n"
     ]
    },
    {
     "name": "stdin",
     "output_type": "stream",
     "text": [
      "Guess the number (between 1 and 100):  20\n"
     ]
    },
    {
     "name": "stdout",
     "output_type": "stream",
     "text": [
      "Too high! Try again.\n"
     ]
    },
    {
     "name": "stdin",
     "output_type": "stream",
     "text": [
      "Guess the number (between 1 and 100):  15\n"
     ]
    },
    {
     "name": "stdout",
     "output_type": "stream",
     "text": [
      "Too low! Try again.\n"
     ]
    },
    {
     "name": "stdin",
     "output_type": "stream",
     "text": [
      "Guess the number (between 1 and 100):  16\n"
     ]
    },
    {
     "name": "stdout",
     "output_type": "stream",
     "text": [
      "Too low! Try again.\n"
     ]
    },
    {
     "name": "stdin",
     "output_type": "stream",
     "text": [
      "Guess the number (between 1 and 100):  17\n"
     ]
    },
    {
     "name": "stdout",
     "output_type": "stream",
     "text": [
      "Congratulations! You guessed the correct number.\n"
     ]
    }
   ],
   "source": [
    "import random\n",
    "\n",
    "# Generate a random number between 1 and 100\n",
    "secret_number = random.randint(1, 100)\n",
    "while True:\n",
    "    guess = int(input(\"Guess the number (between 1 and 100): \"))\n",
    "    \n",
    "    if guess < secret_number:\n",
    "        print(\"Too low! Try again.\")\n",
    "    elif guess > secret_number:\n",
    "        print(\"Too high! Try again.\")\n",
    "    else:\n",
    "        print(\"Congratulations! You guessed the correct number.\")\n",
    "        break\n"
   ]
  },
  {
   "cell_type": "code",
   "execution_count": 6,
   "id": "2a145ed3-4657-4a6a-982a-402c4a1a4704",
   "metadata": {},
   "outputs": [],
   "source": [
    "#Task-2: Number Guesser"
   ]
  },
  {
   "cell_type": "code",
   "execution_count": 3,
   "id": "7808fdf2-e036-4e1b-93eb-96a65c44e152",
   "metadata": {},
   "outputs": [
    {
     "name": "stdin",
     "output_type": "stream",
     "text": [
      "Enter the lower bound of the range:  1\n",
      "Enter the upper bound of the range:  25\n"
     ]
    },
    {
     "name": "stdout",
     "output_type": "stream",
     "text": [
      "Guess the number between 1 and 25\n"
     ]
    },
    {
     "name": "stdin",
     "output_type": "stream",
     "text": [
      "Your guess:  10\n"
     ]
    },
    {
     "name": "stdout",
     "output_type": "stream",
     "text": [
      "Too high! Try again.\n"
     ]
    },
    {
     "name": "stdin",
     "output_type": "stream",
     "text": [
      "Your guess:  8\n"
     ]
    },
    {
     "name": "stdout",
     "output_type": "stream",
     "text": [
      "Too high! Try again.\n"
     ]
    },
    {
     "name": "stdin",
     "output_type": "stream",
     "text": [
      "Your guess:  7\n"
     ]
    },
    {
     "name": "stdout",
     "output_type": "stream",
     "text": [
      "Too high! Try again.\n"
     ]
    },
    {
     "name": "stdin",
     "output_type": "stream",
     "text": [
      "Your guess:  5\n"
     ]
    },
    {
     "name": "stdout",
     "output_type": "stream",
     "text": [
      "Too low! Try again.\n"
     ]
    },
    {
     "name": "stdin",
     "output_type": "stream",
     "text": [
      "Your guess:  6\n"
     ]
    },
    {
     "name": "stdout",
     "output_type": "stream",
     "text": [
      "Congratulations! You guessed the correct number.\n"
     ]
    }
   ],
   "source": [
    "import random\n",
    "\n",
    "# Get the range from the user\n",
    "lower = int(input(\"Enter the lower bound of the range: \"))\n",
    "upper = int(input(\"Enter the upper bound of the range: \"))\n",
    "\n",
    "# Generate random number in the given range\n",
    "secret_number = random.randint(lower, upper)\n",
    "\n",
    "print(f\"Guess the number between {lower} and {upper}\")\n",
    "\n",
    "# Start the guessing loop\n",
    "while True:\n",
    "    guess = int(input(\"Your guess: \"))\n",
    "    \n",
    "    if guess < secret_number:\n",
    "        print(\"Too low! Try again.\")\n",
    "    elif guess > secret_number:\n",
    "        print(\"Too high! Try again.\")\n",
    "    else:\n",
    "        print(\"Congratulations! You guessed the correct number.\")\n",
    "        break\n"
   ]
  },
  {
   "cell_type": "code",
   "execution_count": 10,
   "id": "3f502162-65cb-44ee-97ec-43c5df33415f",
   "metadata": {},
   "outputs": [],
   "source": [
    "#Task-3: Password Strength Checker"
   ]
  },
  {
   "cell_type": "code",
   "execution_count": 24,
   "id": "19037b53-5b52-449b-9119-dbc9b45f1222",
   "metadata": {},
   "outputs": [
    {
     "name": "stdin",
     "output_type": "stream",
     "text": [
      "Enter a password to evaluate:  2!Sa93725381\n"
     ]
    },
    {
     "name": "stdout",
     "output_type": "stream",
     "text": [
      "Strong password!\n"
     ]
    }
   ],
   "source": [
    "import string\n",
    "\n",
    "def evaluate_password_strength(password):\n",
    "    length_error = len(password) < 8\n",
    "    uppercase_error = not any(c.isupper() for c in password)\n",
    "    lowercase_error = not any(c.islower() for c in password)\n",
    "    digit_error = not any(c.isdigit() for c in password)\n",
    "    special_char_error = not any(c in string.punctuation for c in password)\n",
    "    \n",
    "    if length_error:\n",
    "        return \"Weak: Password should be at least 8 characters long.\"\n",
    "    if uppercase_error:\n",
    "        return \"Weak: Password should contain at least one uppercase letter.\"\n",
    "    if lowercase_error:\n",
    "        return \"Weak: Password should contain at least one lowercase letter.\"\n",
    "    if digit_error:\n",
    "        return \"Weak: Password should contain at least one digit.\"\n",
    "    if special_char_error:\n",
    "        return \"Weak: Password should contain at least one special character.\"\n",
    "    \n",
    "    return \"Strong password!\"\n",
    "password = input(\"Enter a password to evaluate: \")\n",
    "print(evaluate_password_strength(password))\n"
   ]
  },
  {
   "cell_type": "code",
   "execution_count": 26,
   "id": "167fc5b6-98f1-4096-a00f-6f68518f4f46",
   "metadata": {},
   "outputs": [],
   "source": [
    "#Task-4: Task: Fibonacci Sequence"
   ]
  },
  {
   "cell_type": "code",
   "execution_count": 34,
   "id": "f42690d3-8a09-49b3-b886-5eef1e7b5458",
   "metadata": {},
   "outputs": [
    {
     "name": "stdin",
     "output_type": "stream",
     "text": [
      "Enter the number of terms for the Fibonacci sequence:  10\n"
     ]
    },
    {
     "name": "stdout",
     "output_type": "stream",
     "text": [
      "Fibonacci sequence:\n",
      "[0, 1, 1, 2, 3, 5, 8, 13, 21, 34]\n"
     ]
    }
   ],
   "source": [
    "def fibonacci_sequence(n):\n",
    "    a, b = 0, 1\n",
    "    sequence = []\n",
    "    for _ in range(n):\n",
    "        sequence.append(a)\n",
    "        a, b = b, a + b\n",
    "    return sequence\n",
    "num_terms = int(input(\"Enter the number of terms for the Fibonacci sequence: \"))\n",
    "fib_seq = fibonacci_sequence(num_terms)\n",
    "print(\"Fibonacci sequence:\")\n",
    "print(fib_seq)\n"
   ]
  },
  {
   "cell_type": "code",
   "execution_count": 46,
   "id": "62c4b17e-ebc6-4fcf-9b2a-ad1fd54a3e3b",
   "metadata": {},
   "outputs": [],
   "source": [
    "#Task-5: File Manipulation"
   ]
  },
  {
   "cell_type": "code",
   "execution_count": 3,
   "id": "86b5ae32-4ba0-41ae-a12f-5a978ec57f7b",
   "metadata": {},
   "outputs": [
    {
     "name": "stdin",
     "output_type": "stream",
     "text": [
      "Enter File Name with Extension: sampletexts.txt\n"
     ]
    },
    {
     "name": "stdout",
     "output_type": "stream",
     "text": [
      "a: 9\n",
      "adventures: 1\n",
      "aged: 1\n",
      "alive: 1\n",
      "all: 1\n",
      "also: 1\n",
      "ambiance: 1\n",
      "an: 2\n",
      "and: 10\n",
      "any: 1\n",
      "appreciation: 1\n",
      "around: 1\n",
      "as: 1\n",
      "believed: 1\n",
      "beyond: 1\n",
      "book: 1\n",
      "books: 1\n",
      "bustling: 1\n",
      "but: 2\n",
      "calling: 1\n",
      "casting: 1\n",
      "centuries: 1\n",
      "children: 1\n",
      "city: 2\n",
      "collection: 1\n",
      "come: 1\n",
      "created: 1\n",
      "curiosity: 1\n",
      "daily: 1\n",
      "dedicated: 1\n",
      "deeper: 1\n",
      "despite: 1\n",
      "digital: 1\n",
      "distant: 1\n",
      "dragons: 1\n",
      "during: 1\n",
      "eager: 1\n",
      "elderly: 1\n",
      "entire: 1\n",
      "every: 2\n",
      "fantasy: 1\n",
      "flame: 1\n",
      "flipping: 1\n",
      "for: 4\n",
      "forgotten: 1\n",
      "from: 2\n",
      "gathered: 1\n",
      "generations: 1\n",
      "gentleman: 1\n",
      "glass: 1\n",
      "golden: 1\n",
      "had: 1\n",
      "he: 1\n",
      "heart: 1\n",
      "held: 1\n",
      "heroes: 1\n",
      "his: 1\n",
      "history: 1\n",
      "hour: 1\n",
      "hues: 1\n",
      "imaginations: 1\n",
      "immerse: 1\n",
      "in: 4\n",
      "inspiration: 1\n",
      "intertwined: 1\n",
      "into: 1\n",
      "it: 1\n",
      "its: 2\n",
      "job: 1\n",
      "journey: 1\n",
      "just: 2\n",
      "keep: 1\n",
      "knowledge: 2\n",
      "lands: 1\n",
      "left: 1\n",
      "librarian: 1\n",
      "library: 4\n",
      "life: 2\n",
      "listen: 1\n",
      "magical: 1\n",
      "manuscripts: 1\n",
      "media: 1\n",
      "mr: 2\n",
      "named: 1\n",
      "newfound: 1\n",
      "not: 2\n",
      "of: 9\n",
      "old: 1\n",
      "other: 1\n",
      "pages: 2\n",
      "paper: 1\n",
      "people: 1\n",
      "place: 1\n",
      "preserving: 1\n",
      "proud: 1\n",
      "quiet: 1\n",
      "realm: 1\n",
      "remained: 1\n",
      "rise: 1\n",
      "sanctuary: 1\n",
      "scrolls: 1\n",
      "seeking: 1\n",
      "set: 1\n",
      "smell: 1\n",
      "solitude: 1\n",
      "sound: 1\n",
      "spark: 1\n",
      "stained: 1\n",
      "stood: 1\n",
      "story: 2\n",
      "sun: 1\n",
      "tales: 1\n",
      "tall: 1\n",
      "technology: 1\n",
      "testament: 1\n",
      "that: 1\n",
      "the: 16\n",
      "their: 1\n",
      "themselves: 1\n",
      "thompson: 2\n",
      "those: 1\n",
      "through: 2\n",
      "time: 1\n",
      "times: 1\n",
      "to: 7\n",
      "transformed: 1\n",
      "unlike: 1\n",
      "vast: 1\n",
      "visited: 1\n",
      "visitor: 1\n",
      "walks: 1\n",
      "was: 1\n",
      "where: 1\n",
      "wildest: 1\n",
      "windows: 1\n",
      "wisdom: 1\n",
      "with: 1\n",
      "within: 1\n",
      "word: 1\n",
      "written: 1\n"
     ]
    }
   ],
   "source": [
    "from collections import Counter\n",
    "import re\n",
    "\n",
    "# Prompt for filename\n",
    "filename = input(\"Enter File Name with Extension:\")\n",
    "\n",
    "try:\n",
    "    with open(filename, 'r', encoding='utf-8') as file:\n",
    "        text = file.read().lower()  # Read and convert to lowercase for case-insensitive counting\n",
    "\n",
    "    # Use regex to extract words (alphanumeric + apostrophes)\n",
    "    words = re.findall(r\"\\b[\\w']+\\b\", text)\n",
    "\n",
    "    # Count occurrences using Counter\n",
    "    word_counts = Counter(words)\n",
    "\n",
    "    # Sort the words alphabetically and display counts\n",
    "    for word in sorted(word_counts):\n",
    "        print(f\"{word}: {word_counts[word]}\")\n",
    "\n",
    "except FileNotFoundError:\n",
    "    print(\"File not found. Please check the filename and try again.\")\n"
   ]
  },
  {
   "cell_type": "code",
   "execution_count": null,
   "id": "f175060c-47e0-4420-8522-2addd4e0b04a",
   "metadata": {},
   "outputs": [],
   "source": []
  }
 ],
 "metadata": {
  "kernelspec": {
   "display_name": "Python 3 (ipykernel)",
   "language": "python",
   "name": "python3"
  },
  "language_info": {
   "codemirror_mode": {
    "name": "ipython",
    "version": 3
   },
   "file_extension": ".py",
   "mimetype": "text/x-python",
   "name": "python",
   "nbconvert_exporter": "python",
   "pygments_lexer": "ipython3",
   "version": "3.12.7"
  }
 },
 "nbformat": 4,
 "nbformat_minor": 5
}
